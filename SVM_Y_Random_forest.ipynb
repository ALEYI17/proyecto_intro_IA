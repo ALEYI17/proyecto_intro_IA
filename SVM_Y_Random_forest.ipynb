{
 "cells": [
  {
   "cell_type": "code",
   "execution_count": 5,
   "id": "5d01fe40",
   "metadata": {},
   "outputs": [],
   "source": [
    "import os\n",
    "from skimage.io import imread\n",
    "from skimage.transform import resize\n",
    "import numpy as np\n",
    "input_dir= \"C:\\\\Users\\\\USUARIO\\\\Documents\\\\Septimo semestre\\\\Intro ia\\\\proyecto clasificacion\\\\tom_and_jerry\\\\tom_and_jerry\"\n",
    "\n",
    "\n",
    "categories=[\"tom\", \"jerry\"]\n",
    "\n",
    "data=[]\n",
    "labels=[]\n",
    "\n",
    "for category_index,category in enumerate(categories):\n",
    "    for file in os.listdir(os.path.join(input_dir,category)):\n",
    "        img_path = os.path.join(input_dir,category,file)\n",
    "        img = imread(img_path)\n",
    "        img = resize(img,(15,15))\n",
    "        data.append(img.flatten())\n",
    "        labels.append(category_index)\n",
    "\n",
    "data = np.asarray(data)\n",
    "labels = np.asarray(labels)"
   ]
  },
  {
   "cell_type": "markdown",
   "id": "388eeeec",
   "metadata": {},
   "source": [
    "# train/test split"
   ]
  },
  {
   "cell_type": "code",
   "execution_count": 7,
   "id": "b1ed1672",
   "metadata": {},
   "outputs": [],
   "source": [
    "from sklearn.model_selection import train_test_split\n",
    "\n",
    "\n",
    "x_train , x_test, y_train, y_test = train_test_split(data,labels,test_size=0.2,shuffle=True,stratify=labels)"
   ]
  },
  {
   "cell_type": "markdown",
   "id": "dfb97241",
   "metadata": {},
   "source": [
    "# Entrenar el modelo"
   ]
  },
  {
   "cell_type": "code",
   "execution_count": 9,
   "id": "a1cdce28",
   "metadata": {},
   "outputs": [
    {
     "data": {
      "text/html": [
       "<style>#sk-container-id-1 {color: black;background-color: white;}#sk-container-id-1 pre{padding: 0;}#sk-container-id-1 div.sk-toggleable {background-color: white;}#sk-container-id-1 label.sk-toggleable__label {cursor: pointer;display: block;width: 100%;margin-bottom: 0;padding: 0.3em;box-sizing: border-box;text-align: center;}#sk-container-id-1 label.sk-toggleable__label-arrow:before {content: \"▸\";float: left;margin-right: 0.25em;color: #696969;}#sk-container-id-1 label.sk-toggleable__label-arrow:hover:before {color: black;}#sk-container-id-1 div.sk-estimator:hover label.sk-toggleable__label-arrow:before {color: black;}#sk-container-id-1 div.sk-toggleable__content {max-height: 0;max-width: 0;overflow: hidden;text-align: left;background-color: #f0f8ff;}#sk-container-id-1 div.sk-toggleable__content pre {margin: 0.2em;color: black;border-radius: 0.25em;background-color: #f0f8ff;}#sk-container-id-1 input.sk-toggleable__control:checked~div.sk-toggleable__content {max-height: 200px;max-width: 100%;overflow: auto;}#sk-container-id-1 input.sk-toggleable__control:checked~label.sk-toggleable__label-arrow:before {content: \"▾\";}#sk-container-id-1 div.sk-estimator input.sk-toggleable__control:checked~label.sk-toggleable__label {background-color: #d4ebff;}#sk-container-id-1 div.sk-label input.sk-toggleable__control:checked~label.sk-toggleable__label {background-color: #d4ebff;}#sk-container-id-1 input.sk-hidden--visually {border: 0;clip: rect(1px 1px 1px 1px);clip: rect(1px, 1px, 1px, 1px);height: 1px;margin: -1px;overflow: hidden;padding: 0;position: absolute;width: 1px;}#sk-container-id-1 div.sk-estimator {font-family: monospace;background-color: #f0f8ff;border: 1px dotted black;border-radius: 0.25em;box-sizing: border-box;margin-bottom: 0.5em;}#sk-container-id-1 div.sk-estimator:hover {background-color: #d4ebff;}#sk-container-id-1 div.sk-parallel-item::after {content: \"\";width: 100%;border-bottom: 1px solid gray;flex-grow: 1;}#sk-container-id-1 div.sk-label:hover label.sk-toggleable__label {background-color: #d4ebff;}#sk-container-id-1 div.sk-serial::before {content: \"\";position: absolute;border-left: 1px solid gray;box-sizing: border-box;top: 0;bottom: 0;left: 50%;z-index: 0;}#sk-container-id-1 div.sk-serial {display: flex;flex-direction: column;align-items: center;background-color: white;padding-right: 0.2em;padding-left: 0.2em;position: relative;}#sk-container-id-1 div.sk-item {position: relative;z-index: 1;}#sk-container-id-1 div.sk-parallel {display: flex;align-items: stretch;justify-content: center;background-color: white;position: relative;}#sk-container-id-1 div.sk-item::before, #sk-container-id-1 div.sk-parallel-item::before {content: \"\";position: absolute;border-left: 1px solid gray;box-sizing: border-box;top: 0;bottom: 0;left: 50%;z-index: -1;}#sk-container-id-1 div.sk-parallel-item {display: flex;flex-direction: column;z-index: 1;position: relative;background-color: white;}#sk-container-id-1 div.sk-parallel-item:first-child::after {align-self: flex-end;width: 50%;}#sk-container-id-1 div.sk-parallel-item:last-child::after {align-self: flex-start;width: 50%;}#sk-container-id-1 div.sk-parallel-item:only-child::after {width: 0;}#sk-container-id-1 div.sk-dashed-wrapped {border: 1px dashed gray;margin: 0 0.4em 0.5em 0.4em;box-sizing: border-box;padding-bottom: 0.4em;background-color: white;}#sk-container-id-1 div.sk-label label {font-family: monospace;font-weight: bold;display: inline-block;line-height: 1.2em;}#sk-container-id-1 div.sk-label-container {text-align: center;}#sk-container-id-1 div.sk-container {/* jupyter's `normalize.less` sets `[hidden] { display: none; }` but bootstrap.min.css set `[hidden] { display: none !important; }` so we also need the `!important` here to be able to override the default hidden behavior on the sphinx rendered scikit-learn.org. See: https://github.com/scikit-learn/scikit-learn/issues/21755 */display: inline-block !important;position: relative;}#sk-container-id-1 div.sk-text-repr-fallback {display: none;}</style><div id=\"sk-container-id-1\" class=\"sk-top-container\"><div class=\"sk-text-repr-fallback\"><pre>GridSearchCV(estimator=SVC(),\n",
       "             param_grid=[{&#x27;C&#x27;: [1, 10, 100, 1000],\n",
       "                          &#x27;gamma&#x27;: [0.01, 0.001, 0.0001]}])</pre><b>In a Jupyter environment, please rerun this cell to show the HTML representation or trust the notebook. <br />On GitHub, the HTML representation is unable to render, please try loading this page with nbviewer.org.</b></div><div class=\"sk-container\" hidden><div class=\"sk-item sk-dashed-wrapped\"><div class=\"sk-label-container\"><div class=\"sk-label sk-toggleable\"><input class=\"sk-toggleable__control sk-hidden--visually\" id=\"sk-estimator-id-1\" type=\"checkbox\" ><label for=\"sk-estimator-id-1\" class=\"sk-toggleable__label sk-toggleable__label-arrow\">GridSearchCV</label><div class=\"sk-toggleable__content\"><pre>GridSearchCV(estimator=SVC(),\n",
       "             param_grid=[{&#x27;C&#x27;: [1, 10, 100, 1000],\n",
       "                          &#x27;gamma&#x27;: [0.01, 0.001, 0.0001]}])</pre></div></div></div><div class=\"sk-parallel\"><div class=\"sk-parallel-item\"><div class=\"sk-item\"><div class=\"sk-label-container\"><div class=\"sk-label sk-toggleable\"><input class=\"sk-toggleable__control sk-hidden--visually\" id=\"sk-estimator-id-2\" type=\"checkbox\" ><label for=\"sk-estimator-id-2\" class=\"sk-toggleable__label sk-toggleable__label-arrow\">estimator: SVC</label><div class=\"sk-toggleable__content\"><pre>SVC()</pre></div></div></div><div class=\"sk-serial\"><div class=\"sk-item\"><div class=\"sk-estimator sk-toggleable\"><input class=\"sk-toggleable__control sk-hidden--visually\" id=\"sk-estimator-id-3\" type=\"checkbox\" ><label for=\"sk-estimator-id-3\" class=\"sk-toggleable__label sk-toggleable__label-arrow\">SVC</label><div class=\"sk-toggleable__content\"><pre>SVC()</pre></div></div></div></div></div></div></div></div></div></div>"
      ],
      "text/plain": [
       "GridSearchCV(estimator=SVC(),\n",
       "             param_grid=[{'C': [1, 10, 100, 1000],\n",
       "                          'gamma': [0.01, 0.001, 0.0001]}])"
      ]
     },
     "execution_count": 9,
     "metadata": {},
     "output_type": "execute_result"
    }
   ],
   "source": [
    "from sklearn.model_selection import GridSearchCV\n",
    "from sklearn.svm import SVC\n",
    "\n",
    "claisficador = SVC()\n",
    "\n",
    "parametros = [{'gamma':[0.01,0.001,0.0001],'C':[1,10,100,1000]}]\n",
    "\n",
    "grid_search = GridSearchCV(claisficador,parametros)\n",
    "\n",
    "grid_search.fit(x_train,y_train)"
   ]
  },
  {
   "cell_type": "markdown",
   "id": "7dd910a9",
   "metadata": {},
   "source": [
    "# Test  "
   ]
  },
  {
   "cell_type": "code",
   "execution_count": 11,
   "id": "7a82fa3c",
   "metadata": {},
   "outputs": [
    {
     "name": "stdout",
     "output_type": "stream",
     "text": [
      "94.1640378548896% de las muestras fueron correctamente clasificadas\n"
     ]
    }
   ],
   "source": [
    "from sklearn.metrics import accuracy_score\n",
    "best_estimator = grid_search.best_estimator_\n",
    "y_prediction = best_estimator.predict(x_test)\n",
    "score = accuracy_score(y_prediction,y_test)\n",
    "\n",
    "print(f\"{score*100}% de las muestras fueron correctamente clasificadas\")"
   ]
  },
  {
   "cell_type": "code",
   "execution_count": 16,
   "id": "54d73fe5",
   "metadata": {},
   "outputs": [
    {
     "name": "stdout",
     "output_type": "stream",
     "text": [
      "La imagen C:\\Users\\USUARIO\\Documents\\Septimo semestre\\Intro ia\\proyecto clasificacion\\FotosPrueba\\jerry1.jpg se clasifica como jerry.\n",
      "La imagen C:\\Users\\USUARIO\\Documents\\Septimo semestre\\Intro ia\\proyecto clasificacion\\FotosPrueba\\jerry2.jpg se clasifica como tom.\n",
      "La imagen C:\\Users\\USUARIO\\Documents\\Septimo semestre\\Intro ia\\proyecto clasificacion\\FotosPrueba\\jerry3.jpg se clasifica como jerry.\n",
      "La imagen C:\\Users\\USUARIO\\Documents\\Septimo semestre\\Intro ia\\proyecto clasificacion\\FotosPrueba\\tom1.jpg se clasifica como tom.\n",
      "La imagen C:\\Users\\USUARIO\\Documents\\Septimo semestre\\Intro ia\\proyecto clasificacion\\FotosPrueba\\tom2.jpg se clasifica como jerry.\n",
      "La imagen C:\\Users\\USUARIO\\Documents\\Septimo semestre\\Intro ia\\proyecto clasificacion\\FotosPrueba\\tom3.jpg se clasifica como tom.\n",
      "La imagen C:\\Users\\USUARIO\\Documents\\Septimo semestre\\Intro ia\\proyecto clasificacion\\FotosPrueba\\tom4.jpg se clasifica como jerry.\n"
     ]
    }
   ],
   "source": [
    "# Supongamos que tienes una lista de rutas de archivo para las nuevas imágenes\n",
    "new_image_paths = [\"C:\\\\Users\\\\USUARIO\\\\Documents\\\\Septimo semestre\\\\Intro ia\\\\proyecto clasificacion\\\\FotosPrueba\\\\jerry1.jpg\"\n",
    "                   , \"C:\\\\Users\\\\USUARIO\\\\Documents\\\\Septimo semestre\\\\Intro ia\\\\proyecto clasificacion\\\\FotosPrueba\\\\jerry2.jpg\"\n",
    "                   ,\"C:\\\\Users\\\\USUARIO\\\\Documents\\\\Septimo semestre\\\\Intro ia\\\\proyecto clasificacion\\\\FotosPrueba\\\\jerry3.jpg\",\n",
    "                  \"C:\\\\Users\\\\USUARIO\\\\Documents\\\\Septimo semestre\\\\Intro ia\\\\proyecto clasificacion\\\\FotosPrueba\\\\tom1.jpg\",\n",
    "                  \"C:\\\\Users\\\\USUARIO\\\\Documents\\\\Septimo semestre\\\\Intro ia\\\\proyecto clasificacion\\\\FotosPrueba\\\\tom2.jpg\",\n",
    "                  \"C:\\\\Users\\\\USUARIO\\\\Documents\\\\Septimo semestre\\\\Intro ia\\\\proyecto clasificacion\\\\FotosPrueba\\\\tom3.jpg\",\n",
    "                  \"C:\\\\Users\\\\USUARIO\\\\Documents\\\\Septimo semestre\\\\Intro ia\\\\proyecto clasificacion\\\\FotosPrueba\\\\tom4.jpg\"]\n",
    "\n",
    "# Cargar y preprocesar las nuevas imágenes\n",
    "new_data = []\n",
    "for img_path in new_image_paths:\n",
    "    img = imread(img_path)\n",
    "    img = resize(img, (15, 15))\n",
    "    new_data.append(img.flatten())\n",
    "\n",
    "new_data = np.asarray(new_data)\n",
    "\n",
    "# Usar el modelo entrenado para hacer predicciones\n",
    "predicted_labels = best_estimator.predict(new_data)\n",
    "\n",
    "# Interpretar las predicciones\n",
    "for img_path, predicted_label in zip(new_image_paths, predicted_labels):\n",
    "    category = categories[predicted_label]\n",
    "    print(f\"La imagen {img_path} se clasifica como {category}.\")\n"
   ]
  },
  {
   "cell_type": "markdown",
   "id": "e43cb92d",
   "metadata": {},
   "source": [
    "# Ahora se va a hacer un random forest"
   ]
  },
  {
   "cell_type": "code",
   "execution_count": 17,
   "id": "dab85c79",
   "metadata": {},
   "outputs": [
    {
     "data": {
      "text/html": [
       "<style>#sk-container-id-2 {color: black;background-color: white;}#sk-container-id-2 pre{padding: 0;}#sk-container-id-2 div.sk-toggleable {background-color: white;}#sk-container-id-2 label.sk-toggleable__label {cursor: pointer;display: block;width: 100%;margin-bottom: 0;padding: 0.3em;box-sizing: border-box;text-align: center;}#sk-container-id-2 label.sk-toggleable__label-arrow:before {content: \"▸\";float: left;margin-right: 0.25em;color: #696969;}#sk-container-id-2 label.sk-toggleable__label-arrow:hover:before {color: black;}#sk-container-id-2 div.sk-estimator:hover label.sk-toggleable__label-arrow:before {color: black;}#sk-container-id-2 div.sk-toggleable__content {max-height: 0;max-width: 0;overflow: hidden;text-align: left;background-color: #f0f8ff;}#sk-container-id-2 div.sk-toggleable__content pre {margin: 0.2em;color: black;border-radius: 0.25em;background-color: #f0f8ff;}#sk-container-id-2 input.sk-toggleable__control:checked~div.sk-toggleable__content {max-height: 200px;max-width: 100%;overflow: auto;}#sk-container-id-2 input.sk-toggleable__control:checked~label.sk-toggleable__label-arrow:before {content: \"▾\";}#sk-container-id-2 div.sk-estimator input.sk-toggleable__control:checked~label.sk-toggleable__label {background-color: #d4ebff;}#sk-container-id-2 div.sk-label input.sk-toggleable__control:checked~label.sk-toggleable__label {background-color: #d4ebff;}#sk-container-id-2 input.sk-hidden--visually {border: 0;clip: rect(1px 1px 1px 1px);clip: rect(1px, 1px, 1px, 1px);height: 1px;margin: -1px;overflow: hidden;padding: 0;position: absolute;width: 1px;}#sk-container-id-2 div.sk-estimator {font-family: monospace;background-color: #f0f8ff;border: 1px dotted black;border-radius: 0.25em;box-sizing: border-box;margin-bottom: 0.5em;}#sk-container-id-2 div.sk-estimator:hover {background-color: #d4ebff;}#sk-container-id-2 div.sk-parallel-item::after {content: \"\";width: 100%;border-bottom: 1px solid gray;flex-grow: 1;}#sk-container-id-2 div.sk-label:hover label.sk-toggleable__label {background-color: #d4ebff;}#sk-container-id-2 div.sk-serial::before {content: \"\";position: absolute;border-left: 1px solid gray;box-sizing: border-box;top: 0;bottom: 0;left: 50%;z-index: 0;}#sk-container-id-2 div.sk-serial {display: flex;flex-direction: column;align-items: center;background-color: white;padding-right: 0.2em;padding-left: 0.2em;position: relative;}#sk-container-id-2 div.sk-item {position: relative;z-index: 1;}#sk-container-id-2 div.sk-parallel {display: flex;align-items: stretch;justify-content: center;background-color: white;position: relative;}#sk-container-id-2 div.sk-item::before, #sk-container-id-2 div.sk-parallel-item::before {content: \"\";position: absolute;border-left: 1px solid gray;box-sizing: border-box;top: 0;bottom: 0;left: 50%;z-index: -1;}#sk-container-id-2 div.sk-parallel-item {display: flex;flex-direction: column;z-index: 1;position: relative;background-color: white;}#sk-container-id-2 div.sk-parallel-item:first-child::after {align-self: flex-end;width: 50%;}#sk-container-id-2 div.sk-parallel-item:last-child::after {align-self: flex-start;width: 50%;}#sk-container-id-2 div.sk-parallel-item:only-child::after {width: 0;}#sk-container-id-2 div.sk-dashed-wrapped {border: 1px dashed gray;margin: 0 0.4em 0.5em 0.4em;box-sizing: border-box;padding-bottom: 0.4em;background-color: white;}#sk-container-id-2 div.sk-label label {font-family: monospace;font-weight: bold;display: inline-block;line-height: 1.2em;}#sk-container-id-2 div.sk-label-container {text-align: center;}#sk-container-id-2 div.sk-container {/* jupyter's `normalize.less` sets `[hidden] { display: none; }` but bootstrap.min.css set `[hidden] { display: none !important; }` so we also need the `!important` here to be able to override the default hidden behavior on the sphinx rendered scikit-learn.org. See: https://github.com/scikit-learn/scikit-learn/issues/21755 */display: inline-block !important;position: relative;}#sk-container-id-2 div.sk-text-repr-fallback {display: none;}</style><div id=\"sk-container-id-2\" class=\"sk-top-container\"><div class=\"sk-text-repr-fallback\"><pre>GridSearchCV(estimator=RandomForestClassifier(),\n",
       "             param_grid={&#x27;max_depth&#x27;: [None, 10, 20],\n",
       "                         &#x27;n_estimators&#x27;: [100, 200, 300]})</pre><b>In a Jupyter environment, please rerun this cell to show the HTML representation or trust the notebook. <br />On GitHub, the HTML representation is unable to render, please try loading this page with nbviewer.org.</b></div><div class=\"sk-container\" hidden><div class=\"sk-item sk-dashed-wrapped\"><div class=\"sk-label-container\"><div class=\"sk-label sk-toggleable\"><input class=\"sk-toggleable__control sk-hidden--visually\" id=\"sk-estimator-id-4\" type=\"checkbox\" ><label for=\"sk-estimator-id-4\" class=\"sk-toggleable__label sk-toggleable__label-arrow\">GridSearchCV</label><div class=\"sk-toggleable__content\"><pre>GridSearchCV(estimator=RandomForestClassifier(),\n",
       "             param_grid={&#x27;max_depth&#x27;: [None, 10, 20],\n",
       "                         &#x27;n_estimators&#x27;: [100, 200, 300]})</pre></div></div></div><div class=\"sk-parallel\"><div class=\"sk-parallel-item\"><div class=\"sk-item\"><div class=\"sk-label-container\"><div class=\"sk-label sk-toggleable\"><input class=\"sk-toggleable__control sk-hidden--visually\" id=\"sk-estimator-id-5\" type=\"checkbox\" ><label for=\"sk-estimator-id-5\" class=\"sk-toggleable__label sk-toggleable__label-arrow\">estimator: RandomForestClassifier</label><div class=\"sk-toggleable__content\"><pre>RandomForestClassifier()</pre></div></div></div><div class=\"sk-serial\"><div class=\"sk-item\"><div class=\"sk-estimator sk-toggleable\"><input class=\"sk-toggleable__control sk-hidden--visually\" id=\"sk-estimator-id-6\" type=\"checkbox\" ><label for=\"sk-estimator-id-6\" class=\"sk-toggleable__label sk-toggleable__label-arrow\">RandomForestClassifier</label><div class=\"sk-toggleable__content\"><pre>RandomForestClassifier()</pre></div></div></div></div></div></div></div></div></div></div>"
      ],
      "text/plain": [
       "GridSearchCV(estimator=RandomForestClassifier(),\n",
       "             param_grid={'max_depth': [None, 10, 20],\n",
       "                         'n_estimators': [100, 200, 300]})"
      ]
     },
     "execution_count": 17,
     "metadata": {},
     "output_type": "execute_result"
    }
   ],
   "source": [
    "from sklearn.ensemble import RandomForestClassifier\n",
    "\n",
    "classifier = RandomForestClassifier()\n",
    "\n",
    "parameters = {'n_estimators': [100, 200, 300], 'max_depth': [None, 10, 20]}\n",
    "\n",
    "grid_search = GridSearchCV(classifier, parameters)\n",
    "grid_search.fit(x_train, y_train)"
   ]
  },
  {
   "cell_type": "markdown",
   "id": "6069b452",
   "metadata": {},
   "source": [
    "# Test"
   ]
  },
  {
   "cell_type": "code",
   "execution_count": 18,
   "id": "5761ccbf",
   "metadata": {},
   "outputs": [
    {
     "name": "stdout",
     "output_type": "stream",
     "text": [
      "94.79495268138801% de precision\n"
     ]
    }
   ],
   "source": [
    "\n",
    "best_estimator = grid_search.best_estimator_\n",
    "\n",
    "\n",
    "y_prediction = best_estimator.predict(x_test)\n",
    "accuracy = accuracy_score(y_test, y_prediction)\n",
    "print(f\"{accuracy*100}% de precision\")"
   ]
  },
  {
   "cell_type": "code",
   "execution_count": 19,
   "id": "9b8039e1",
   "metadata": {},
   "outputs": [
    {
     "name": "stdout",
     "output_type": "stream",
     "text": [
      "La imagen C:\\Users\\USUARIO\\Documents\\Septimo semestre\\Intro ia\\proyecto clasificacion\\FotosPrueba\\jerry1.jpg se clasifica como jerry.\n",
      "La imagen C:\\Users\\USUARIO\\Documents\\Septimo semestre\\Intro ia\\proyecto clasificacion\\FotosPrueba\\jerry2.jpg se clasifica como tom.\n",
      "La imagen C:\\Users\\USUARIO\\Documents\\Septimo semestre\\Intro ia\\proyecto clasificacion\\FotosPrueba\\jerry3.jpg se clasifica como tom.\n",
      "La imagen C:\\Users\\USUARIO\\Documents\\Septimo semestre\\Intro ia\\proyecto clasificacion\\FotosPrueba\\tom1.jpg se clasifica como tom.\n",
      "La imagen C:\\Users\\USUARIO\\Documents\\Septimo semestre\\Intro ia\\proyecto clasificacion\\FotosPrueba\\tom2.jpg se clasifica como tom.\n",
      "La imagen C:\\Users\\USUARIO\\Documents\\Septimo semestre\\Intro ia\\proyecto clasificacion\\FotosPrueba\\tom3.jpg se clasifica como tom.\n",
      "La imagen C:\\Users\\USUARIO\\Documents\\Septimo semestre\\Intro ia\\proyecto clasificacion\\FotosPrueba\\tom4.jpg se clasifica como jerry.\n"
     ]
    }
   ],
   "source": [
    "# Supongamos que tienes una lista de rutas de archivo para las nuevas imágenes\n",
    "new_image_paths = [\"C:\\\\Users\\\\USUARIO\\\\Documents\\\\Septimo semestre\\\\Intro ia\\\\proyecto clasificacion\\\\FotosPrueba\\\\jerry1.jpg\"\n",
    "                   , \"C:\\\\Users\\\\USUARIO\\\\Documents\\\\Septimo semestre\\\\Intro ia\\\\proyecto clasificacion\\\\FotosPrueba\\\\jerry2.jpg\"\n",
    "                   ,\"C:\\\\Users\\\\USUARIO\\\\Documents\\\\Septimo semestre\\\\Intro ia\\\\proyecto clasificacion\\\\FotosPrueba\\\\jerry3.jpg\",\n",
    "                  \"C:\\\\Users\\\\USUARIO\\\\Documents\\\\Septimo semestre\\\\Intro ia\\\\proyecto clasificacion\\\\FotosPrueba\\\\tom1.jpg\",\n",
    "                  \"C:\\\\Users\\\\USUARIO\\\\Documents\\\\Septimo semestre\\\\Intro ia\\\\proyecto clasificacion\\\\FotosPrueba\\\\tom2.jpg\",\n",
    "                  \"C:\\\\Users\\\\USUARIO\\\\Documents\\\\Septimo semestre\\\\Intro ia\\\\proyecto clasificacion\\\\FotosPrueba\\\\tom3.jpg\",\n",
    "                  \"C:\\\\Users\\\\USUARIO\\\\Documents\\\\Septimo semestre\\\\Intro ia\\\\proyecto clasificacion\\\\FotosPrueba\\\\tom4.jpg\"]\n",
    "\n",
    "# Cargar y preprocesar las nuevas imágenes\n",
    "new_data = []\n",
    "for img_path in new_image_paths:\n",
    "    img = imread(img_path)\n",
    "    img = resize(img, (15, 15))\n",
    "    new_data.append(img.flatten())\n",
    "\n",
    "new_data = np.asarray(new_data)\n",
    "\n",
    "# Usar el modelo entrenado para hacer predicciones\n",
    "predicted_labels = best_estimator.predict(new_data)\n",
    "\n",
    "# Interpretar las predicciones\n",
    "for img_path, predicted_label in zip(new_image_paths, predicted_labels):\n",
    "    category = categories[predicted_label]\n",
    "    print(f\"La imagen {img_path} se clasifica como {category}.\")\n"
   ]
  },
  {
   "cell_type": "code",
   "execution_count": null,
   "id": "4a4d9c60",
   "metadata": {},
   "outputs": [],
   "source": []
  }
 ],
 "metadata": {
  "kernelspec": {
   "display_name": "Python 3 (ipykernel)",
   "language": "python",
   "name": "python3"
  },
  "language_info": {
   "codemirror_mode": {
    "name": "ipython",
    "version": 3
   },
   "file_extension": ".py",
   "mimetype": "text/x-python",
   "name": "python",
   "nbconvert_exporter": "python",
   "pygments_lexer": "ipython3",
   "version": "3.10.9"
  }
 },
 "nbformat": 4,
 "nbformat_minor": 5
}
